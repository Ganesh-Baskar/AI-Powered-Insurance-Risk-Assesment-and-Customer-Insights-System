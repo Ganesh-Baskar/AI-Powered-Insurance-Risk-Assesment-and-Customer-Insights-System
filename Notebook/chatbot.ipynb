{
 "cells": [
  {
   "cell_type": "markdown",
   "id": "1a3251d0-3519-4e4a-a54a-e6b2122c3de5",
   "metadata": {},
   "source": [
    "# 1. Install required library"
   ]
  },
  {
   "cell_type": "code",
   "execution_count": 3,
   "id": "f672c0fc-5759-429e-93d4-f63a22f24589",
   "metadata": {},
   "outputs": [
    {
     "name": "stdout",
     "output_type": "stream",
     "text": [
      "Defaulting to user installation because normal site-packages is not writeable\n",
      "Collecting fuzzywuzzy[speedup]\n",
      "  Downloading fuzzywuzzy-0.18.0-py2.py3-none-any.whl.metadata (4.9 kB)\n",
      "Collecting python-levenshtein>=0.12 (from fuzzywuzzy[speedup])\n",
      "  Downloading python_levenshtein-0.27.1-py3-none-any.whl.metadata (3.7 kB)\n",
      "Collecting Levenshtein==0.27.1 (from python-levenshtein>=0.12->fuzzywuzzy[speedup])\n",
      "  Downloading levenshtein-0.27.1-cp313-cp313-win_amd64.whl.metadata (3.6 kB)\n",
      "Collecting rapidfuzz<4.0.0,>=3.9.0 (from Levenshtein==0.27.1->python-levenshtein>=0.12->fuzzywuzzy[speedup])\n",
      "  Downloading rapidfuzz-3.13.0-cp313-cp313-win_amd64.whl.metadata (12 kB)\n",
      "Downloading fuzzywuzzy-0.18.0-py2.py3-none-any.whl (18 kB)\n",
      "Downloading python_levenshtein-0.27.1-py3-none-any.whl (9.4 kB)\n",
      "Downloading levenshtein-0.27.1-cp313-cp313-win_amd64.whl (100 kB)\n",
      "Downloading rapidfuzz-3.13.0-cp313-cp313-win_amd64.whl (1.6 MB)\n",
      "   ---------------------------------------- 0.0/1.6 MB ? eta -:--:--\n",
      "   ------------------- -------------------- 0.8/1.6 MB 3.7 MB/s eta 0:00:01\n",
      "   -------------------------------------- - 1.6/1.6 MB 3.9 MB/s eta 0:00:01\n",
      "   ---------------------------------------- 1.6/1.6 MB 3.3 MB/s eta 0:00:00\n",
      "Installing collected packages: fuzzywuzzy, rapidfuzz, Levenshtein, python-levenshtein\n",
      "\n",
      "   ---------- ----------------------------- 1/4 [rapidfuzz]\n",
      "   ---------- ----------------------------- 1/4 [rapidfuzz]\n",
      "   ---------- ----------------------------- 1/4 [rapidfuzz]\n",
      "   ---------- ----------------------------- 1/4 [rapidfuzz]\n",
      "   ------------------------------ --------- 3/4 [python-levenshtein]\n",
      "   ---------------------------------------- 4/4 [python-levenshtein]\n",
      "\n",
      "Successfully installed Levenshtein-0.27.1 fuzzywuzzy-0.18.0 python-levenshtein-0.27.1 rapidfuzz-3.13.0\n",
      "Note: you may need to restart the kernel to use updated packages.\n"
     ]
    }
   ],
   "source": [
    "pip install fuzzywuzzy[speedup]"
   ]
  },
  {
   "cell_type": "markdown",
   "id": "47eccab1-087d-4167-ae92-b0506dabe9a3",
   "metadata": {},
   "source": [
    "# 2. Python Chatbot Code"
   ]
  },
  {
   "cell_type": "code",
   "execution_count": null,
   "id": "65c03f59-f87b-403c-91f7-62838d8923db",
   "metadata": {},
   "outputs": [
    {
     "name": "stdout",
     "output_type": "stream",
     "text": [
      "🤖 Insurance FAQ Chatbot (type 'exit' to quit)\n",
      "\n"
     ]
    },
    {
     "name": "stdin",
     "output_type": "stream",
     "text": [
      "You:  \"What are the premium payment terms for LIC Jeevan Labh?\",\n"
     ]
    },
    {
     "name": "stdout",
     "output_type": "stream",
     "text": [
      "Chatbot: The premium paying terms for LIC Jeevan Labh are 10, 15, or 16 years, depending on the policy term chosen (16, 21, or 25 years respectively).\n"
     ]
    },
    {
     "name": "stdin",
     "output_type": "stream",
     "text": [
      "You:   \"How is LIC maturity amount calculated?\"\n"
     ]
    },
    {
     "name": "stdout",
     "output_type": "stream",
     "text": [
      "Chatbot: The maturity amount is calculated as Sum Assured + Bonus + Final Additional Bonus (if any).\n"
     ]
    },
    {
     "name": "stdin",
     "output_type": "stream",
     "text": [
      "You:   \"How to download LIC premium payment receipt?\"\n"
     ]
    },
    {
     "name": "stdout",
     "output_type": "stream",
     "text": [
      "Chatbot: Login to the LIC customer portal, go to 'Policy Details' and click on 'Download Premium Paid Certificate' to get your receipt.\n"
     ]
    }
   ],
   "source": [
    "import json\n",
    "from fuzzywuzzy import process\n",
    "\n",
    "# Load FAQ data\n",
    "with open(\"C:/Users/Ganesh Baskar/OneDrive/Documents/Data/insurance_faq_100.json\", \"r\", encoding=\"utf-8\") as f:\n",
    "    faq_data = json.load(f)\n",
    "\n",
    "# Prepare a question list for matching\n",
    "questions = [faq[\"question\"] for faq in faq_data]\n",
    "\n",
    "def get_answer(user_input):\n",
    "    # Find best matching question\n",
    "    best_match, score = process.extractOne(user_input, questions)\n",
    "    if score >= 60:  # adjust this threshold as needed\n",
    "        for faq in faq_data:\n",
    "            if faq[\"question\"] == best_match:\n",
    "                return faq[\"answer\"]\n",
    "    return \"Sorry, I couldn't find an answer to that. Please try rephrasing your question.\"\n",
    "\n",
    "# Chatbot loop\n",
    "print(\"🤖 Insurance FAQ Chatbot (type 'exit' to quit)\\n\")\n",
    "while True:\n",
    "    user_input = input(\"You: \")\n",
    "    if user_input.lower() in [\"exit\", \"quit\"]:\n",
    "        print(\"Chatbot: Goodbye! Stay insured. 🛡️\")\n",
    "        break\n",
    "    response = get_answer(user_input)\n",
    "    print(\"Chatbot:\", response)"
   ]
  },
  {
   "cell_type": "code",
   "execution_count": null,
   "id": "e040484e-9d2f-426e-8c26-35f1c8bbd04e",
   "metadata": {},
   "outputs": [],
   "source": []
  }
 ],
 "metadata": {
  "kernelspec": {
   "display_name": "Python 3 (ipykernel)",
   "language": "python",
   "name": "python3"
  },
  "language_info": {
   "codemirror_mode": {
    "name": "ipython",
    "version": 3
   },
   "file_extension": ".py",
   "mimetype": "text/x-python",
   "name": "python",
   "nbconvert_exporter": "python",
   "pygments_lexer": "ipython3",
   "version": "3.13.1"
  }
 },
 "nbformat": 4,
 "nbformat_minor": 5
}
